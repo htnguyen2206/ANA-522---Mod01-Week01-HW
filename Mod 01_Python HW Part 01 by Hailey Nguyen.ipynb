{
 "cells": [
  {
   "cell_type": "code",
   "execution_count": 1,
   "id": "3806b591-e4ef-4620-b7f4-385453bc51f3",
   "metadata": {},
   "outputs": [
    {
     "data": {
      "text/plain": [
       "\u001b[0;31mSignature:\u001b[0m \u001b[0mord\u001b[0m\u001b[0;34m(\u001b[0m\u001b[0mc\u001b[0m\u001b[0;34m,\u001b[0m \u001b[0;34m/\u001b[0m\u001b[0;34m)\u001b[0m\u001b[0;34m\u001b[0m\u001b[0;34m\u001b[0m\u001b[0m\n",
       "\u001b[0;31mDocstring:\u001b[0m Return the Unicode code point for a one-character string.\n",
       "\u001b[0;31mType:\u001b[0m      builtin_function_or_method\n"
      ]
     },
     "metadata": {},
     "output_type": "display_data"
    }
   ],
   "source": [
    "?ord"
   ]
  },
  {
   "cell_type": "code",
   "execution_count": 2,
   "id": "555235b4-5d6b-432d-ac62-06b1a1aa80ea",
   "metadata": {},
   "outputs": [
    {
     "name": "stdout",
     "output_type": "stream",
     "text": [
      "Unicode for character 'A' is 65\n",
      "Unicode for character 'B' is 66\n",
      "Unicode for character 'C' is 67\n",
      "Unicode for character 'a' is 97\n",
      "Unicode for character 'b' is 98\n",
      "Unicode for character 'c' is 99\n"
     ]
    }
   ],
   "source": [
    "# Note: the '/' above is as an argument marks the end of arguments that are positional only\n",
    "\n",
    "#Q: How to lookup code points for characters, say \"A\", \"B\",\"C\" etc as Python statements?\n",
    "print(\"Unicode for character 'A' is\", ord('A'))\n",
    "print(\"Unicode for character 'B' is\", ord('B'))\n",
    "print(\"Unicode for character 'C' is\", ord('C'))\n",
    "print(\"Unicode for character 'a' is\", ord('a'))\n",
    "print(\"Unicode for character 'b' is\", ord('b'))\n",
    "print(\"Unicode for character 'c' is\", ord('c'))"
   ]
  },
  {
   "cell_type": "code",
   "execution_count": 4,
   "id": "5a30cf41-750c-4983-a582-4a4a97c11f43",
   "metadata": {},
   "outputs": [
    {
     "name": "stdout",
     "output_type": "stream",
     "text": [
      "0 1 2 3 4 5 6 7 8 9 10 11 12 13 14 15 16 17 18 19 20 21 22 23 24 25 "
     ]
    }
   ],
   "source": [
    "#Q:Is there a convenient way to print all letters?\n",
    "#A:The solution idea is to specify the code point one at a time.\n",
    "# We are using loop statement with the help of range() function to automate the process.\n",
    "# Before getting there, firstly test the for lool with numbers first\n",
    "\n",
    "for idx in range(26):\n",
    "    print( idx, end=\" \")"
   ]
  },
  {
   "cell_type": "code",
   "execution_count": 5,
   "id": "1700541f-b40d-4cfd-83f3-c17791b86972",
   "metadata": {},
   "outputs": [
    {
     "data": {
      "text/plain": [
       "\u001b[0;31mSignature:\u001b[0m \u001b[0mchr\u001b[0m\u001b[0;34m(\u001b[0m\u001b[0mi\u001b[0m\u001b[0;34m,\u001b[0m \u001b[0;34m/\u001b[0m\u001b[0;34m)\u001b[0m\u001b[0;34m\u001b[0m\u001b[0;34m\u001b[0m\u001b[0m\n",
       "\u001b[0;31mDocstring:\u001b[0m Return a Unicode string of one character with ordinal i; 0 <= i <= 0x10ffff.\n",
       "\u001b[0;31mType:\u001b[0m      builtin_function_or_method\n"
      ]
     },
     "metadata": {},
     "output_type": "display_data"
    }
   ],
   "source": [
    "# Now we want to adjust the range of the number to meet the numerical values of the code points.\n",
    "# From previous Unicode printouts we knew that code point ranges for upper and lower alphabets are:\n",
    "# A - Z : starting at 65\n",
    "# a - z : starting at 97\n",
    "# chr() function can be used to retrive a character by its code point. See the usage first.\n",
    "?chr"
   ]
  },
  {
   "cell_type": "code",
   "execution_count": 6,
   "id": "9683b66d-65bf-4dc8-b4c6-ce43f88d84a0",
   "metadata": {},
   "outputs": [
    {
     "name": "stdout",
     "output_type": "stream",
     "text": [
      "A B C D E F G H I J K L M N O P Q R S T U V W X Y Z \n",
      "a b c d e f g h i j k l m n o p q r s t u v w x y z "
     ]
    }
   ],
   "source": [
    "# From all the above, we can print out all letters if specifying their code points\n",
    "for idx in range(26):\n",
    "    print( chr(idx + 65), end= \" \")\n",
    "print()\n",
    "\n",
    "for idx in range(26):\n",
    "    print( chr(idx + 97), end= \" \")"
   ]
  },
  {
   "cell_type": "code",
   "execution_count": 7,
   "id": "3be88dfe-667d-40e5-aa13-1d3ab72152c5",
   "metadata": {},
   "outputs": [
    {
     "name": "stdout",
     "output_type": "stream",
     "text": [
      "A B C D E F G H I J K L M N O P Q R S T U V W X Y Z \n",
      "N O P Q R S T U V W X Y Z [ \\ ] ^ _ ` a b c d e f g "
     ]
    }
   ],
   "source": [
    "# Now we have the tools needed to explore the Caesar Cipher.\n",
    "# Let's try a Caesar Cipher with offet value, say 13, for all upper case letters as an example\n",
    "\n",
    "# Print out the original uppercase alphabet\n",
    "for idx in range(26):\n",
    "    print( chr(idx + 65), end= \" \")\n",
    "print()\n",
    "\n",
    "# Print out with the uppercase alphabet with offset 13\n",
    "offset = 13\n",
    "for idx in range(26):\n",
    "    print( chr(idx + 65 + offset), end= \" \")"
   ]
  },
  {
   "cell_type": "code",
   "execution_count": 8,
   "id": "6f766676-339b-437a-b139-440c7619d0e9",
   "metadata": {},
   "outputs": [
    {
     "name": "stdout",
     "output_type": "stream",
     "text": [
      "N O P Q R S T U V W X Y Z A B C D E F G H I J K L M "
     ]
    }
   ],
   "source": [
    "# let's fix it by focusing on the cycle of only uppercase letters. It means after done with Z, the next letter should be back to A and continuing.\n",
    "# To do so, we use % (mod) operator with 26, which is the size of total uppercase letters.\n",
    "\n",
    "# Print out with the offset 13\n",
    "offset = 13\n",
    "for idx in range(26):\n",
    "    print(chr( (idx+offset)%26 + 65), end= \" \")\n",
    "\n",
    "# We fixed it by applying the offset and the cycle of only 26 upppercase letters, while applying the starting code point, where A is 65, to every␣letter.\n"
   ]
  },
  {
   "cell_type": "code",
   "execution_count": 9,
   "id": "000fd60d-8be7-45fd-93be-0617eb0906e8",
   "metadata": {},
   "outputs": [
    {
     "data": {
      "text/plain": [
       "'Gur Mra bs Clguba, ol Gvz Crgref'"
      ]
     },
     "execution_count": 9,
     "metadata": {},
     "output_type": "execute_result"
    }
   ],
   "source": [
    "## Given above, now it's time to demystify some secret messages using Caesar Cipher.\n",
    "\n",
    "## Use the above, can you solve the encryped message.\n",
    "\n",
    "# What does this string say?\n",
    "'Gur Mra bs Clguba, ol Gvz Crgref'\n",
    "\n",
    "# The string was encryped with an offset equals to 13 using Caesar Cipher Wheel\n",
    "\n",
    "# Can you implement Python statements to retrieve the original message?"
   ]
  },
  {
   "cell_type": "code",
   "execution_count": 10,
   "id": "db6ce2f4-c16e-4c1c-9bae-2cf425fd676c",
   "metadata": {},
   "outputs": [],
   "source": [
    "### Homework Question One.\n",
    "\n",
    "# You work starts here, given the secret message is stored in the secret variable in the following.\n",
    "secret = 'Gur Mra bs Clguba, ol Gvz Crgref'\n"
   ]
  },
  {
   "cell_type": "code",
   "execution_count": 11,
   "id": "16a5d692-1e38-4bec-85a1-5e4ce807bd42",
   "metadata": {},
   "outputs": [],
   "source": [
    "### Homework Question Two.\n",
    "\n",
    "# Once the previous secret message is retrieved,\n",
    "# use the secret to create a new secret message using caesar cipher with offset equals to 11\n",
    "# Then print out the new encrypted message"
   ]
  },
  {
   "cell_type": "code",
   "execution_count": null,
   "id": "ef902e73-d447-42eb-85be-0878c97f5ed6",
   "metadata": {},
   "outputs": [],
   "source": []
  }
 ],
 "metadata": {
  "kernelspec": {
   "display_name": "ANA522 (default)",
   "language": "python",
   "name": "ada522"
  },
  "language_info": {
   "codemirror_mode": {
    "name": "ipython",
    "version": 3
   },
   "file_extension": ".py",
   "mimetype": "text/x-python",
   "name": "python",
   "nbconvert_exporter": "python",
   "pygments_lexer": "ipython3",
   "version": "3.8.5"
  }
 },
 "nbformat": 4,
 "nbformat_minor": 5
}
